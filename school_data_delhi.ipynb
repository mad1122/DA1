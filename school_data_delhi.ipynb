{
  "metadata": {
    "kernelspec": {
      "language": "python",
      "display_name": "Python 3",
      "name": "python3"
    },
    "language_info": {
      "name": "python",
      "version": "3.7.12",
      "mimetype": "text/x-python",
      "codemirror_mode": {
        "name": "ipython",
        "version": 3
      },
      "pygments_lexer": "ipython3",
      "nbconvert_exporter": "python",
      "file_extension": ".py"
    },
    "colab": {
      "name": "Copy of school-data-delhi.ipynb",
      "provenance": [],
      "collapsed_sections": [],
      "include_colab_link": true
    }
  },
  "nbformat_minor": 0,
  "nbformat": 4,
  "cells": [
    {
      "cell_type": "markdown",
      "metadata": {
        "id": "view-in-github",
        "colab_type": "text"
      },
      "source": [
        "<a href=\"https://colab.research.google.com/github/mad1122/DA1/blob/main/school_data_delhi.ipynb\" target=\"_parent\"><img src=\"https://colab.research.google.com/assets/colab-badge.svg\" alt=\"Open In Colab\"/></a>"
      ]
    },
    {
      "cell_type": "markdown",
      "source": [
        "### PROJECT: SCHOOL DATA"
      ],
      "metadata": {
        "_uuid": "8f2839f25d086af736a60e9eeb907d3b93b6e0e5",
        "_cell_guid": "b1076dfc-b9ad-4769-8c92-a6c4dae69d19",
        "execution": {
          "iopub.status.busy": "2022-07-04T16:15:36.463666Z",
          "iopub.execute_input": "2022-07-04T16:15:36.464075Z",
          "iopub.status.idle": "2022-07-04T16:15:36.468411Z",
          "shell.execute_reply.started": "2022-07-04T16:15:36.464039Z",
          "shell.execute_reply": "2022-07-04T16:15:36.467622Z"
        },
        "id": "45rRe_UxAWDb"
      }
    },
    {
      "cell_type": "markdown",
      "source": [
        ""
      ],
      "metadata": {
        "id": "-AVyNFjUAWDe"
      }
    },
    {
      "cell_type": "markdown",
      "source": [
        "### Createing a dataset by scraping data from school database website: https://school.careers360.com/schools/schools-in-delhi\n",
        "### Analayse the data gathered after scraping it from different pages within the website\n",
        "### Denoting the key attributes of different schools "
      ],
      "metadata": {
        "id": "ZZitNx33AWDf"
      }
    },
    {
      "cell_type": "markdown",
      "source": [
        "# Importing needed libraries:\n"
      ],
      "metadata": {
        "id": "4zh-aOjZAWDg"
      }
    },
    {
      "cell_type": "markdown",
      "source": [
        ""
      ],
      "metadata": {
        "id": "JmoVjtzHAWDg"
      }
    },
    {
      "cell_type": "code",
      "source": [
        "import numpy as np\n",
        "import pandas as pd\n",
        "import random\n",
        "from numpy.random import randn\n",
        "import os\n",
        "import seaborn as sn\n",
        "from sklearn.model_selection import train_test_split\n",
        "import matplotlib.pyplot as plt\n",
        "%matplotlib inline\n",
        "from datetime import datetime\n",
        "import pytz\n",
        "import re\n",
        "from scipy.stats import stats\n",
        "import requests\n",
        "from bs4 import BeautifulSoup as bs\n"
      ],
      "metadata": {
        "scrolled": true,
        "execution": {
          "iopub.status.busy": "2022-07-04T16:58:52.126284Z",
          "iopub.execute_input": "2022-07-04T16:58:52.126674Z",
          "iopub.status.idle": "2022-07-04T16:58:52.136769Z",
          "shell.execute_reply.started": "2022-07-04T16:58:52.126642Z",
          "shell.execute_reply": "2022-07-04T16:58:52.135547Z"
        },
        "trusted": true,
        "id": "el77FRtVAWDh"
      },
      "execution_count": 1,
      "outputs": []
    },
    {
      "cell_type": "markdown",
      "source": [
        "**Using requests to download webpage with data**"
      ],
      "metadata": {
        "id": "ABbJ51noAWDi"
      }
    },
    {
      "cell_type": "code",
      "source": [
        ""
      ],
      "metadata": {
        "id": "MRVnhv3u3AP-"
      },
      "execution_count": null,
      "outputs": []
    },
    {
      "cell_type": "code",
      "source": [
        "page = 1\n",
        "sch_nam=[]\n",
        "sch_url=[]\n",
        "sch_rat=[]\n",
        "while page != 75:\n",
        "  d_d_url=f'https://school.careers360.com/schools/schools-in-delhi?page={page}'\n",
        "  distt= requests.get(d_d_url)\n",
        "  doc1= bs(distt.text, 'html.parser')\n",
        "\n",
        "  tags_1= doc1.find_all('h3', {'class' : 'blockHeading'})\n",
        "  tags_2= doc1.find_all('div', {'class' : 'rating1'})\n",
        "  \n",
        "  for nam in tags_1:\n",
        "    sch_nam.append(nam.text)\n",
        "  \n",
        "  for url in tags_1:\n",
        "    sch_url.append(url.find('a')['href'])\n",
        "  \n",
        "  for rat in tags_2:\n",
        "    pattern = \"strong>(.*?)</\"\n",
        "    rating_tag = re.search(pattern, str(rat)).group(1)\n",
        "    sch_rat.append(rating_tag)\n",
        "  \n",
        "  page = page + 1\n",
        "\n",
        "sch_dict={'Name_location':sch_nam, 'Rating':sch_rat, 'URL':sch_url}\n",
        "df1=pd.DataFrame.from_dict(sch_dict,orient='index')\n",
        "df1 = df1.transpose()\n",
        "\n",
        "\n",
        "\n",
        "\n",
        "      \n",
        "      \n"
      ],
      "metadata": {
        "id": "leCVCN_Ew9-f"
      },
      "execution_count": 10,
      "outputs": []
    },
    {
      "cell_type": "code",
      "source": [
        ""
      ],
      "metadata": {
        "id": "2As9iEstQRcY"
      },
      "execution_count": 12,
      "outputs": []
    },
    {
      "cell_type": "code",
      "source": [
        "sch_nam=[]\n",
        "sch_fee=[]\n",
        "sch_bd=[]\n",
        "sch_own=[]\n",
        "sch_afn=[]\n",
        "sch_gnd=[]\n",
        "sch_siz=[]\n",
        "sch_lan=[]\n",
        "sch_tch=[]\n",
        "sch_clss=[]\n",
        "sch_enrol=[]\n",
        "\n",
        "\n",
        "for i in sch_url[:2200]:\n",
        "  school= requests.get(i)\n",
        "  doc2= bs(school.text, 'html.parser')\n",
        "\n",
        "  ver1 = doc2.find_all('h1')\n",
        "  ver2=ver1[0].text.strip()\n",
        "  ver3=ver2.split(',')[0]\n",
        "  sch_nam.append(ver3)\n",
        "\n",
        "  fee_tag=doc2.find('span', {'class' : 'feeTxt'})\n",
        "  if fee_tag is None:\n",
        "    pass\n",
        "  else:\n",
        "    a=fee_tag.text\n",
        "    fee=a[a.find('\\n')+len('\\n'):a.rfind('/-')]\n",
        "    sch_fee.append(fee)\n",
        "\n",
        "  data2 = []\n",
        "  table2 = doc2.find('div', attrs={'id':'information'})\n",
        "  rows2 = table2.find_all('tr')\n",
        "  for row in rows2:\n",
        "    \n",
        "    cols = row.find_all('td')\n",
        "    cols = [ele.text.strip() for ele in cols]\n",
        "    data2.append([ele for ele in cols if ele])\n",
        "  dff=pd.DataFrame(data2)\n",
        "  dff=dff.T\n",
        "  dff.columns=dff.iloc[0]\n",
        "  dff=dff.drop(dff.index[0])\n",
        "  if 'Board' in dff.columns:\n",
        "    sch_bd.append(dff['Board'].to_string(index=False))\n",
        "  else:\n",
        "    sch_bd.append(None)\n",
        "    pass\n",
        "  if 'Ownership' in dff.columns:\n",
        "    sch_own.append(dff['Ownership'].to_string(index=False))\n",
        "  else:\n",
        "    sch_own.append(None)\n",
        "    pass\n",
        "  if 'Affiliation Number' in dff.columns:\n",
        "    sch_afn.append(dff['Affiliation Number'].to_string(index=False))\n",
        "  else:\n",
        "    sch_afn.append(None)\n",
        "    pass\n",
        "  if 'Gender' in dff.columns:\n",
        "    sch_gnd.append(dff['Gender'].to_string(index=False))\n",
        "  else:\n",
        "    sch_gnd.append(None)\n",
        "    pass\n",
        "  if 'Campus Size' in dff.columns:\n",
        "    sch_siz.append(dff['Campus Size'].to_string(index=False))\n",
        "  else:\n",
        "    sch_siz.append(None)\n",
        "    pass\n",
        "\n",
        "  data3 = []\n",
        "  table1 = doc2.find('div', attrs={'class':'enroll_block'})\n",
        "  if table1 is None:\n",
        "    pass\n",
        "  else:\n",
        "    table_body1 = table1.find('tbody')\n",
        "    rows1 = table_body1.find_all('tr')\n",
        "    for row in rows1:\n",
        "        cols = row.find_all('td')\n",
        "        cols = [ele.text.strip() for ele in cols]\n",
        "        data3.append([ele for ele in cols if ele])\n",
        "    if data3[1][1][0]is'N':\n",
        "      pass\n",
        "    else:\n",
        "      dff1=pd.DataFrame(data3)\n",
        "      dff1=dff1.drop(dff1.index[0])\n",
        "      dff1[1]=dff1[1].astype('float')\n",
        "      dff1['total']=dff1[1].sum()\n",
        "      sch_enrol.append(dff1['total'][1])\n",
        "\n",
        "  data4 = []\n",
        "  a = doc2.find('div', attrs={'id':'academics'})\n",
        "  if a is None:\n",
        "    pass\n",
        "  else:\n",
        "    rows3 = a.find_all('tr')\n",
        "    for row in rows3:\n",
        "        cols = row.find_all('td')\n",
        "        cols = [ele.text.strip() for ele in cols]\n",
        "        data4.append([ele for ele in cols if ele])\n",
        "    dff2=pd.DataFrame(data4)\n",
        "    dff2=dff2.T\n",
        "    dff2.columns=dff2.iloc[0]\n",
        "    dff2=dff2.drop(dff2.index[0])\n",
        "    if 'Medium(s) of Instruction' in dff2.columns:\n",
        "      sch_lan.append(dff2['Medium(s) of Instruction'].to_string(index=False))\n",
        "    else:\n",
        "      sch_lan.append(None)\n",
        "      pass\n",
        "    if 'No. of Teachers' in dff2.columns:\n",
        "      sch_tch.append(dff2['No. of Teachers'].to_string(index=False))\n",
        "    else:\n",
        "      sch_tch.append(None)\n",
        "      pass\n",
        "    if 'No. of Classrooms' in dff2.columns:\n",
        "      sch_clss.append(dff2['No. of Classrooms'].to_string(index=False))\n",
        "    else:\n",
        "      sch_clss.append(None)\n",
        "      pass\n",
        "\n",
        "sch_dict2={'Affiliation_number':sch_afn, 'Name':sch_nam,'Fee':sch_fee, 'Board':sch_bd, 'Owned_by':sch_own, \n",
        "           'Gender':sch_gnd, 'Campu_size':sch_siz, 'Enrollments':sch_enrol, 'No_of_teachers':sch_tch,\n",
        "           'No_of_classrooms':sch_clss,'Language_of_instruction':sch_lan}\n",
        "dfs=pd.DataFrame.from_dict(sch_dict2,orient='index')\n",
        "dfs = dfs.T"
      ],
      "metadata": {
        "id": "0J3rXvyAqv6v"
      },
      "execution_count": 103,
      "outputs": []
    },
    {
      "cell_type": "code",
      "source": [
        "dfs.info()"
      ],
      "metadata": {
        "colab": {
          "base_uri": "https://localhost:8080/"
        },
        "id": "59BeaKVqRrqt",
        "outputId": "9664bf9d-2c1b-4ff4-cb55-007be6a6b5c6"
      },
      "execution_count": 104,
      "outputs": [
        {
          "output_type": "stream",
          "name": "stdout",
          "text": [
            "<class 'pandas.core.frame.DataFrame'>\n",
            "RangeIndex: 2200 entries, 0 to 2199\n",
            "Data columns (total 11 columns):\n",
            " #   Column                   Non-Null Count  Dtype \n",
            "---  ------                   --------------  ----- \n",
            " 0   Affiliation_number       2198 non-null   object\n",
            " 1   Name                     2200 non-null   object\n",
            " 2   Fee                      306 non-null    object\n",
            " 3   Board                    2193 non-null   object\n",
            " 4   Owned_by                 2185 non-null   object\n",
            " 5   Gender                   2157 non-null   object\n",
            " 6   Campu_size               1908 non-null   object\n",
            " 7   Enrollments              467 non-null    object\n",
            " 8   No_of_teachers           645 non-null    object\n",
            " 9   No_of_classrooms         468 non-null    object\n",
            " 10  Language_of_instruction  2110 non-null   object\n",
            "dtypes: object(11)\n",
            "memory usage: 189.2+ KB\n"
          ]
        }
      ]
    },
    {
      "cell_type": "markdown",
      "source": [
        "# New Section"
      ],
      "metadata": {
        "id": "AYoJyst7Y2ch"
      }
    },
    {
      "cell_type": "code",
      "source": [
        "\n"
      ],
      "metadata": {
        "id": "2BhA0gB9Rrtg"
      },
      "execution_count": null,
      "outputs": []
    },
    {
      "cell_type": "code",
      "source": [
        ""
      ],
      "metadata": {
        "id": "NbPPjkaNRrwv"
      },
      "execution_count": 51,
      "outputs": []
    },
    {
      "cell_type": "code",
      "source": [
        "\n"
      ],
      "metadata": {
        "id": "ELayp-zMRryV"
      },
      "execution_count": null,
      "outputs": []
    },
    {
      "cell_type": "code",
      "source": [
        ""
      ],
      "metadata": {
        "id": "0-r4HfhQRr2_"
      },
      "execution_count": null,
      "outputs": []
    },
    {
      "cell_type": "code",
      "source": [
        ""
      ],
      "metadata": {
        "id": "9pugY-0pBHdd"
      },
      "execution_count": null,
      "outputs": []
    },
    {
      "cell_type": "code",
      "source": [
        ""
      ],
      "metadata": {
        "id": "uSuuBGA_Rr6B"
      },
      "execution_count": null,
      "outputs": []
    },
    {
      "cell_type": "code",
      "source": [
        ""
      ],
      "metadata": {
        "id": "6Q4DtOgBMhOW"
      },
      "execution_count": 91,
      "outputs": []
    },
    {
      "cell_type": "code",
      "source": [
        ""
      ],
      "metadata": {
        "id": "3BvDSxlVMhPq"
      },
      "execution_count": null,
      "outputs": []
    },
    {
      "cell_type": "markdown",
      "source": [
        ""
      ],
      "metadata": {
        "id": "aeMTCw9XvJsW"
      }
    },
    {
      "cell_type": "code",
      "source": [
        "'''df2.info() #/content/Delhi_school_data1.csv\n",
        "df3.info() #/content/Delhi_school_data2.csv\n",
        "df4=pd.read_csv('Delhi_school_data4.csv',index_col=None)\n",
        "df5.info() #/content/Delhi_school_data5.csv\n",
        "df6=pd.read_csv('Delhi_school_data6.csv',index_col=None)\n",
        "df7=pd.read_csv('Delhi_school_data3.csv',index_col=None)\n",
        "dsf=pd.concat([ds1,ds2,ds3,ds4,ds5,ds6])\n",
        "dsf.info()'''\n"
      ],
      "metadata": {
        "id": "ryHSYfDKRr0u"
      },
      "execution_count": null,
      "outputs": []
    },
    {
      "cell_type": "code",
      "source": [
        ""
      ],
      "metadata": {
        "id": "3FZkF4coMhSF"
      },
      "execution_count": null,
      "outputs": []
    },
    {
      "cell_type": "code",
      "source": [
        "'''dsf1=pd.merge(df1, dfs, right_index=True, left_index=True)\n",
        "dsf1.info()'''"
      ],
      "metadata": {
        "id": "K6z_jkDRQjQX"
      },
      "execution_count": null,
      "outputs": []
    },
    {
      "cell_type": "code",
      "source": [
        "#dsf1.to_csv('Delhi_schools.csv', index=False)"
      ],
      "metadata": {
        "id": "CQWKBAhIQjS8"
      },
      "execution_count": 107,
      "outputs": []
    },
    {
      "cell_type": "code",
      "source": [
        "'''df1.info()'''"
      ],
      "metadata": {
        "id": "GPgecaUHQRW8"
      },
      "execution_count": null,
      "outputs": []
    },
    {
      "cell_type": "code",
      "source": [
        "'''df_sch_del_bas=df1\n",
        "df_sch_del_bas.describe()'''"
      ],
      "metadata": {
        "id": "VEI4fkUg5UQZ"
      },
      "execution_count": null,
      "outputs": []
    },
    {
      "cell_type": "code",
      "source": [
        "#df_sch_del_bas.to_csv('Delhi_school_basic.csv')"
      ],
      "metadata": {
        "id": "E_Uu_JKt5t3Y"
      },
      "execution_count": 54,
      "outputs": []
    },
    {
      "cell_type": "code",
      "source": [
        "'''sch_url[2199]'''"
      ],
      "metadata": {
        "id": "8S7k2TlQQRZj"
      },
      "execution_count": null,
      "outputs": []
    },
    {
      "cell_type": "code",
      "source": [
        "'''\n",
        "Delhi_Districts_url='https://school.careers360.com/schools/amrita-vidyalayam-pushp-vihar-delhi'\n",
        "distt= requests.get(Delhi_Districts_url)\n",
        "del_dist=distt.text\n",
        "doc5= bs(del_dist, 'html.parser')'''"
      ],
      "metadata": {
        "execution": {
          "iopub.status.busy": "2022-07-04T17:24:40.232963Z",
          "iopub.execute_input": "2022-07-04T17:24:40.233394Z",
          "iopub.status.idle": "2022-07-04T17:25:00.291973Z",
          "shell.execute_reply.started": "2022-07-04T17:24:40.233350Z",
          "shell.execute_reply": "2022-07-04T17:25:00.290332Z"
        },
        "collapsed": true,
        "jupyter": {
          "outputs_hidden": true
        },
        "trusted": true,
        "id": "hANv-BQGAWDj"
      },
      "execution_count": null,
      "outputs": []
    },
    {
      "cell_type": "code",
      "source": [
        "#pattern = \"strong>(.*?)</\"\n",
        "#rating_tag = re.search(pattern, str(tags_2[1])).group(1)\n",
        "'''\n",
        "sch_rat=[]\n",
        "for rat in tags_2:\n",
        "  pattern = \"strong>(.*?)</\"\n",
        "  rating_tag = re.search(pattern, str(rat)).group(1)\n",
        "  sch_rat.append(rating_tag)\n",
        "sch_rat[5:15]'''"
      ],
      "metadata": {
        "id": "MAIG2VT9AWDl"
      },
      "execution_count": null,
      "outputs": []
    },
    {
      "cell_type": "code",
      "source": [
        "'''tags_1[0].text\n",
        "\n",
        "sch_nam=[]\n",
        "for nam in tags_1:\n",
        "  sch_nam.append(nam.text)\n",
        "sch_nam[5:12]'''"
      ],
      "metadata": {
        "id": "uDUB9WH6hgNX"
      },
      "execution_count": null,
      "outputs": []
    },
    {
      "cell_type": "code",
      "source": [
        "'''sch_dict={'Name':sch_nam, 'Rating':sch_rat, 'URL':sch_url}\n",
        "df1=pd.DataFrame(sch_dict)\n",
        "'''\n"
      ],
      "metadata": {
        "id": "YqvejgcmAWDl"
      },
      "execution_count": null,
      "outputs": []
    },
    {
      "cell_type": "code",
      "source": [
        "'''ver1 = doc2.find_all('h1')\n",
        "ver2=ver1[0].text.strip()\n",
        "ver2.split(',')[0]'''\n"
      ],
      "metadata": {
        "id": "1aUbAlRa3AKK"
      },
      "execution_count": null,
      "outputs": []
    },
    {
      "cell_type": "code",
      "source": [
        "'''df22= df2.loc[df2['Enrollments'].notnull()]\n",
        "df_sch_del=df2'''"
      ],
      "metadata": {
        "id": "Y7-PI7gHBBEQ"
      },
      "execution_count": 65,
      "outputs": []
    },
    {
      "cell_type": "code",
      "source": [
        ""
      ],
      "metadata": {
        "id": "TyGiDwDnBBHK"
      },
      "execution_count": null,
      "outputs": []
    }
  ]
}